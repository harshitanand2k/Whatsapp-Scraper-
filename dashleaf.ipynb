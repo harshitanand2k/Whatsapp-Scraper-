{
 "cells": [
  {
   "cell_type": "code",
   "execution_count": 1,
   "metadata": {},
   "outputs": [],
   "source": [
    "import dash\n",
    "import dash_core_components as dcc\n",
    "import dash_html_components as html\n",
    "\n",
    "external_stylesheets = ['https://codepen.io/chriddyp/pen/bWLwgP.css']\n",
    "\n",
    "app = dash.Dash(__name__, external_stylesheets=external_stylesheets)\n",
    "\n"
   ]
  },
  {
   "cell_type": "code",
   "execution_count": 2,
   "metadata": {},
   "outputs": [],
   "source": [
    "import pandas as pd\n",
    "df=pd.read_excel('dau.xlsx')\n",
    "df2=pd.read_excel('wau.xlsx')"
   ]
  },
  {
   "cell_type": "code",
   "execution_count": 3,
   "metadata": {},
   "outputs": [
    {
     "name": "stderr",
     "output_type": "stream",
     "text": [
      "C:\\Users\\Mayank.Mayank\\anaconda3\\lib\\site-packages\\pandas\\core\\indexing.py:670: SettingWithCopyWarning: \n",
      "A value is trying to be set on a copy of a slice from a DataFrame\n",
      "\n",
      "See the caveats in the documentation: https://pandas.pydata.org/pandas-docs/stable/user_guide/indexing.html#returning-a-view-versus-a-copy\n",
      "  self._setitem_with_indexer(indexer, value)\n"
     ]
    }
   ],
   "source": [
    "df['Total']=0\n",
    "for i in range(len(df)):\n",
    "    for j in range(1,len(df.columns)-1):\n",
    "        df['Total'].iloc[i]+=df[df.columns[j]].iloc[i]\n",
    "        \n"
   ]
  },
  {
   "cell_type": "code",
   "execution_count": null,
   "metadata": {},
   "outputs": [],
   "source": [
    "'''app.layout = html.Div(children=[\n",
    "    html.H1(children='LEAF DASHBOARD', style={\n",
    "            'textAlign': 'center',\n",
    "            'color': '#808085'\n",
    "        }),\n",
    "\n",
    "    html.Div(children='''\n",
    "        #DAU - DAILY ACTIVE USERS CHARTS.\n",
    "    ''',style={'textAlign':'center'}),\n",
    "\n",
    "    dcc.Graph(\n",
    "        id='example-graph',\n",
    "        figure={'data': [{'x': df.A, 'y': df.Group1, 'type': 'bar', 'name': 'Group1'},\n",
    "                {'x': df.A, 'y': df.Group2, 'type': 'bar', 'name': 'Group2'},\n",
    "                {'x': df.A, 'y': df.Group3, 'type': 'bar', 'name': 'Group3'},\n",
    "                {'x': df.A, 'y': df.Group4, 'type': 'bar', 'name': 'Group4'},\n",
    "                {'x': df.A, 'y': df.Group5, 'type': 'bar', 'name': 'Group5'}]\n",
    "                \n",
    "                ,'layout': {'title': 'DAU/ GROUP'}\n",
    "        }\n",
    "        \n",
    "    )\n",
    "    \n",
    "])\n",
    "\n",
    "\n",
    "app.layout = html.Div(dcc.Graph(figure=fig1))'''"
   ]
  },
  {
   "cell_type": "code",
   "execution_count": 4,
   "metadata": {},
   "outputs": [],
   "source": [
    "import plotly.express as p\n",
    "import plotly.graph_objects as go\n",
    "fig1 = go.Figure(data=[\n",
    "    go.Bar(name='Group1', x=df.A, y=df.Group1),\n",
    "    go.Bar(name='Group2', x=df.A, y=df.Group2),\n",
    "    go.Bar(name='Group3', x=df.A, y=df.Group3),\n",
    "    go.Bar(name='Group4', x=df.A, y=df.Group4),\n",
    "    go.Bar(name='Group5', x=df.A, y=df.Group5)\n",
    "])\n",
    "# Change the bar mode\n",
    "fig1.update_layout(barmode='stack')\n",
    "\n",
    "fig3 = go.Figure(data=[\n",
    "    go.Bar(name='Group1', x=df2.A, y=df2.B1),\n",
    "    go.Bar(name='Group2', x=df2.A, y=df2.B2),\n",
    "    go.Bar(name='Group3', x=df2.A, y=df2.B3),\n",
    "    go.Bar(name='Group4', x=df2.A, y=df2.B4),\n",
    "    go.Bar(name='Group5', x=df2.A, y=df2.B5)\n",
    "])\n",
    "# Change the bar mode\n",
    "fig3.update_layout(barmode='stack')\n",
    "\n",
    "import plotly.express as px\n",
    "\n",
    "fig2 = px.bar(df, x=df.A, y=df.Total)\n",
    "fig4 = px.bar(df2, x=df2.A, y=df2.B)\n",
    "\n",
    "\n",
    "app.layout = html.Div([\n",
    "    dcc.Graph(\n",
    "        id = 'graph1',\n",
    "        figure = fig1\n",
    "    ),\n",
    "    dcc.Graph(\n",
    "        id='graph2',\n",
    "        figure=fig2\n",
    "    ),\n",
    "     dcc.Graph(\n",
    "        id='graph3',\n",
    "        figure=fig3\n",
    "    ),\n",
    "    \n",
    "     dcc.Graph(\n",
    "        id='graph4',\n",
    "        figure=fig4\n",
    "    ),\n",
    "\n",
    "\n",
    "\n",
    "])\n"
   ]
  },
  {
   "cell_type": "code",
   "execution_count": null,
   "metadata": {},
   "outputs": [
    {
     "name": "stdout",
     "output_type": "stream",
     "text": [
      " * Serving Flask app \"__main__\" (lazy loading)\n",
      " * Environment: production\n",
      "   WARNING: This is a development server. Do not use it in a production deployment.\n",
      "   Use a production WSGI server instead.\n",
      " * Debug mode: off\n"
     ]
    },
    {
     "name": "stderr",
     "output_type": "stream",
     "text": [
      " * Running on http://127.0.0.1:8050/ (Press CTRL+C to quit)\n",
      "127.0.0.1 - - [13/May/2020 22:03:14] \"\u001b[37mGET / HTTP/1.1\u001b[0m\" 200 -\n",
      "127.0.0.1 - - [13/May/2020 22:03:14] \"\u001b[37mGET /_dash-dependencies HTTP/1.1\u001b[0m\" 200 -\n",
      "127.0.0.1 - - [13/May/2020 22:03:15] \"\u001b[37mGET /_dash-layout HTTP/1.1\u001b[0m\" 200 -\n"
     ]
    }
   ],
   "source": [
    "if __name__ == '__main__':\n",
    "    app.run_server(port=8050)"
   ]
  }
 ],
 "metadata": {
  "kernelspec": {
   "display_name": "Python 3",
   "language": "python",
   "name": "python3"
  },
  "language_info": {
   "codemirror_mode": {
    "name": "ipython",
    "version": 3
   },
   "file_extension": ".py",
   "mimetype": "text/x-python",
   "name": "python",
   "nbconvert_exporter": "python",
   "pygments_lexer": "ipython3",
   "version": "3.7.6"
  }
 },
 "nbformat": 4,
 "nbformat_minor": 4
}
